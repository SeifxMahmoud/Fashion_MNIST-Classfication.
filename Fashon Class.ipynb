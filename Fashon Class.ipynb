{
 "cells": [
  {
   "cell_type": "code",
   "execution_count": 224,
   "id": "749f23ac-3007-481b-832d-b99562f2c76b",
   "metadata": {},
   "outputs": [],
   "source": [
    "import tensorflow as tf\n",
    "from tensorflow import keras"
   ]
  },
  {
   "cell_type": "code",
   "execution_count": 225,
   "id": "ff50bb8e-3386-48ad-9be0-2b3fe3d5e4a7",
   "metadata": {},
   "outputs": [],
   "source": [
    "fashon_mnist = keras.datasets.fashion_mnist"
   ]
  },
  {
   "cell_type": "code",
   "execution_count": 226,
   "id": "1f89d270-c325-4f84-96a4-424a1fc8c421",
   "metadata": {},
   "outputs": [],
   "source": [
    "import numpy as np\n",
    "import pandas as pd\n",
    "import matplotlib.pyplot as plt\n",
    "import seaborn as sns"
   ]
  },
  {
   "cell_type": "code",
   "execution_count": 227,
   "id": "fc15fa69-c9ae-44d0-aa8e-43c94cea1020",
   "metadata": {},
   "outputs": [],
   "source": [
    "(X_train_full,y_train_full),(X_test,y_test) = fashon_mnist.load_data()"
   ]
  },
  {
   "cell_type": "markdown",
   "id": "e9a70b66-ea38-41c2-baa4-38739c247b50",
   "metadata": {},
   "source": [
    "Let's create a validation set, because we don't have one. "
   ]
  },
  {
   "cell_type": "code",
   "execution_count": 229,
   "id": "7ab38acf-2ec8-4128-8d66-57c3e4f451a8",
   "metadata": {},
   "outputs": [],
   "source": [
    "X_val, X_train = X_train_full[:5000] / 255.0, X_train_full[5000:] / 255.0"
   ]
  },
  {
   "cell_type": "code",
   "execution_count": 252,
   "id": "caa0b352-07cf-4211-af5d-28b4987f9a1a",
   "metadata": {},
   "outputs": [
    {
     "data": {
      "text/plain": [
       "(5000, 28, 28)"
      ]
     },
     "execution_count": 252,
     "metadata": {},
     "output_type": "execute_result"
    }
   ],
   "source": [
    "X_val.shape"
   ]
  },
  {
   "cell_type": "code",
   "execution_count": 254,
   "id": "5662bdcb-05f9-42bc-9681-7322657775d1",
   "metadata": {
    "scrolled": true
   },
   "outputs": [
    {
     "data": {
      "text/plain": [
       "array([[0.        , 0.        , 0.        , 0.        , 0.        ,\n",
       "        0.        , 0.        , 0.        , 0.        , 0.        ,\n",
       "        0.        , 0.        , 0.        , 0.        , 0.        ,\n",
       "        0.        , 0.        , 0.        , 0.        , 0.00392157,\n",
       "        0.        , 0.        , 0.        , 0.        , 0.        ,\n",
       "        0.        , 0.        , 0.        ],\n",
       "       [0.        , 0.        , 0.        , 0.        , 0.        ,\n",
       "        0.        , 0.        , 0.        , 0.        , 0.        ,\n",
       "        0.        , 0.17254902, 0.49803922, 0.71372549, 0.7254902 ,\n",
       "        0.63137255, 0.47058824, 0.21568627, 0.        , 0.        ,\n",
       "        0.        , 0.        , 0.        , 0.        , 0.        ,\n",
       "        0.        , 0.        , 0.        ],\n",
       "       [0.        , 0.        , 0.        , 0.        , 0.        ,\n",
       "        0.        , 0.        , 0.        , 0.        , 0.16470588,\n",
       "        0.77647059, 0.98431373, 1.        , 0.98431373, 0.97647059,\n",
       "        0.96862745, 1.        , 0.98823529, 0.83921569, 0.39215686,\n",
       "        0.        , 0.        , 0.        , 0.        , 0.        ,\n",
       "        0.        , 0.        , 0.        ],\n",
       "       [0.        , 0.        , 0.        , 0.        , 0.        ,\n",
       "        0.        , 0.00784314, 0.        , 0.        , 0.91372549,\n",
       "        0.98823529, 0.92941176, 0.9372549 , 0.91764706, 0.92941176,\n",
       "        0.92156863, 0.92941176, 0.92941176, 0.99607843, 0.89019608,\n",
       "        0.        , 0.        , 0.        , 0.        , 0.00392157,\n",
       "        0.        , 0.        , 0.        ],\n",
       "       [0.        , 0.        , 0.        , 0.        , 0.        ,\n",
       "        0.00784314, 0.        , 0.        , 0.0627451 , 0.82352941,\n",
       "        0.88235294, 0.84313725, 0.68627451, 0.85098039, 0.84705882,\n",
       "        0.75686275, 0.76862745, 0.88627451, 0.86666667, 0.81960784,\n",
       "        0.19607843, 0.        , 0.        , 0.00784314, 0.        ,\n",
       "        0.        , 0.        , 0.        ],\n",
       "       [0.        , 0.        , 0.        , 0.        , 0.00784314,\n",
       "        0.        , 0.        , 0.78039216, 0.89803922, 0.90980392,\n",
       "        0.90196078, 0.96078431, 0.8       , 0.85882353, 0.99215686,\n",
       "        0.96078431, 0.81176471, 0.76078431, 0.8745098 , 0.90588235,\n",
       "        0.9254902 , 0.92156863, 0.        , 0.        , 0.01176471,\n",
       "        0.        , 0.        , 0.        ],\n",
       "       [0.        , 0.        , 0.        , 0.        , 0.00392157,\n",
       "        0.        , 0.5372549 , 0.92156863, 0.8       , 0.81960784,\n",
       "        0.78823529, 0.81960784, 0.91764706, 0.74509804, 0.91764706,\n",
       "        0.85490196, 0.84313725, 0.93333333, 0.9372549 , 0.8       ,\n",
       "        0.74117647, 0.87843137, 0.60392157, 0.        , 0.        ,\n",
       "        0.        , 0.        , 0.        ],\n",
       "       [0.        , 0.        , 0.        , 0.        , 0.        ,\n",
       "        0.        , 0.76078431, 0.78823529, 0.78431373, 0.81960784,\n",
       "        0.79215686, 0.75686275, 0.80392157, 0.76078431, 0.71764706,\n",
       "        0.85490196, 0.90588235, 0.77254902, 0.6745098 , 0.70980392,\n",
       "        0.75686275, 0.80392157, 0.78039216, 0.        , 0.        ,\n",
       "        0.        , 0.        , 0.        ],\n",
       "       [0.        , 0.        , 0.        , 0.        , 0.        ,\n",
       "        0.01176471, 0.83137255, 0.79607843, 0.7372549 , 0.74117647,\n",
       "        0.76862745, 0.77647059, 0.77647059, 0.78823529, 0.76862745,\n",
       "        0.85098039, 0.70196078, 0.65490196, 0.71764706, 0.85098039,\n",
       "        0.77254902, 0.79215686, 0.85882353, 0.11764706, 0.        ,\n",
       "        0.        , 0.        , 0.        ],\n",
       "       [0.        , 0.        , 0.        , 0.        , 0.        ,\n",
       "        0.13333333, 0.88235294, 0.78431373, 0.76078431, 0.74509804,\n",
       "        0.7372549 , 0.75294118, 0.76862745, 0.75294118, 0.66666667,\n",
       "        0.79215686, 0.74509804, 0.78823529, 0.76470588, 0.78431373,\n",
       "        0.78823529, 0.81960784, 0.89019608, 0.19607843, 0.        ,\n",
       "        0.        , 0.        , 0.        ],\n",
       "       [0.        , 0.        , 0.        , 0.        , 0.        ,\n",
       "        0.26666667, 0.88235294, 0.82352941, 0.82745098, 0.77647059,\n",
       "        0.75294118, 0.76862745, 0.8       , 0.76862745, 0.70980392,\n",
       "        0.83137255, 0.77254902, 0.76470588, 0.75294118, 0.80784314,\n",
       "        0.8627451 , 0.82352941, 0.89803922, 0.36470588, 0.        ,\n",
       "        0.        , 0.        , 0.        ],\n",
       "       [0.        , 0.        , 0.        , 0.        , 0.        ,\n",
       "        0.43529412, 0.8745098 , 0.89019608, 0.99215686, 0.81960784,\n",
       "        0.76862745, 0.8       , 0.82745098, 0.80784314, 0.71764706,\n",
       "        0.84705882, 0.80784314, 0.82352941, 0.79607843, 0.84313725,\n",
       "        0.95686275, 0.87843137, 0.89019608, 0.58823529, 0.        ,\n",
       "        0.        , 0.        , 0.        ],\n",
       "       [0.        , 0.        , 0.        , 0.        , 0.        ,\n",
       "        0.54509804, 0.88235294, 0.87843137, 1.        , 0.79215686,\n",
       "        0.80784314, 0.83137255, 0.81960784, 0.82745098, 0.74509804,\n",
       "        0.83529412, 0.79215686, 0.81176471, 0.80784314, 0.87058824,\n",
       "        1.        , 0.90196078, 0.8627451 , 0.74509804, 0.        ,\n",
       "        0.        , 0.        , 0.        ],\n",
       "       [0.        , 0.        , 0.        , 0.        , 0.        ,\n",
       "        0.70588235, 0.88627451, 0.87843137, 1.        , 0.78039216,\n",
       "        0.8       , 0.81176471, 0.83921569, 0.83921569, 0.74509804,\n",
       "        0.84705882, 0.80784314, 0.79607843, 0.80392157, 0.85882353,\n",
       "        0.95294118, 0.87843137, 0.83921569, 0.91764706, 0.        ,\n",
       "        0.        , 0.        , 0.        ],\n",
       "       [0.        , 0.        , 0.        , 0.        , 0.        ,\n",
       "        0.88235294, 0.8745098 , 0.89411765, 0.99607843, 0.81960784,\n",
       "        0.80784314, 0.81568627, 0.83529412, 0.82352941, 0.74901961,\n",
       "        0.84313725, 0.81176471, 0.8       , 0.81568627, 0.82745098,\n",
       "        0.97647059, 0.88627451, 0.83921569, 1.        , 0.14901961,\n",
       "        0.        , 0.        , 0.        ],\n",
       "       [0.        , 0.        , 0.        , 0.        , 0.        ,\n",
       "        0.98039216, 0.90980392, 0.94117647, 0.9372549 , 0.82745098,\n",
       "        0.79607843, 0.81960784, 0.80392157, 0.82745098, 0.77254902,\n",
       "        0.84313725, 0.81568627, 0.81568627, 0.83921569, 0.83529412,\n",
       "        0.9372549 , 0.90588235, 0.85882353, 1.        , 0.31764706,\n",
       "        0.        , 0.        , 0.        ],\n",
       "       [0.        , 0.        , 0.        , 0.        , 0.        ,\n",
       "        0.97254902, 0.9254902 , 0.96862745, 0.94117647, 0.79607843,\n",
       "        0.78431373, 0.81568627, 0.80784314, 0.83921569, 0.75686275,\n",
       "        0.83529412, 0.83137255, 0.81568627, 0.83137255, 0.82745098,\n",
       "        0.95294118, 0.94901961, 0.88235294, 0.99607843, 0.25882353,\n",
       "        0.        , 0.        , 0.        ],\n",
       "       [0.        , 0.        , 0.        , 0.        , 0.        ,\n",
       "        0.96862745, 0.90196078, 0.98823529, 0.88627451, 0.78039216,\n",
       "        0.82745098, 0.79215686, 0.82745098, 0.83529412, 0.71372549,\n",
       "        0.83529412, 0.83137255, 0.80784314, 0.79215686, 0.85882353,\n",
       "        0.81176471, 0.96862745, 0.87058824, 0.92941176, 0.40784314,\n",
       "        0.        , 0.        , 0.        ],\n",
       "       [0.        , 0.        , 0.        , 0.        , 0.03921569,\n",
       "        0.95686275, 0.85882353, 0.98039216, 0.80392157, 0.78039216,\n",
       "        0.81960784, 0.79215686, 0.81960784, 0.82745098, 0.74117647,\n",
       "        0.83921569, 0.80784314, 0.82352941, 0.78431373, 0.83137255,\n",
       "        0.60392157, 0.94117647, 0.81568627, 0.85882353, 0.54901961,\n",
       "        0.        , 0.        , 0.        ],\n",
       "       [0.        , 0.        , 0.        , 0.        , 0.08235294,\n",
       "        1.        , 0.87058824, 0.93333333, 0.72156863, 0.82352941,\n",
       "        0.75294118, 0.80784314, 0.81960784, 0.82352941, 0.74117647,\n",
       "        0.83529412, 0.82745098, 0.81960784, 0.75294118, 0.89411765,\n",
       "        0.60784314, 0.88627451, 0.93333333, 0.94509804, 0.65098039,\n",
       "        0.        , 0.        , 0.        ],\n",
       "       [0.        , 0.        , 0.        , 0.        , 0.14509804,\n",
       "        0.96078431, 0.88627451, 0.94509804, 0.58823529, 0.77254902,\n",
       "        0.74117647, 0.8       , 0.81960784, 0.82352941, 0.71764706,\n",
       "        0.83529412, 0.83529412, 0.78823529, 0.72156863, 0.84313725,\n",
       "        0.57254902, 0.84705882, 0.9254902 , 0.88235294, 0.60392157,\n",
       "        0.        , 0.        , 0.        ],\n",
       "       [0.        , 0.        , 0.        , 0.        , 0.22745098,\n",
       "        0.9372549 , 0.89019608, 1.        , 0.61960784, 0.75686275,\n",
       "        0.76470588, 0.8       , 0.81960784, 0.83529412, 0.70588235,\n",
       "        0.81176471, 0.85098039, 0.78039216, 0.76078431, 0.82745098,\n",
       "        0.61960784, 0.85882353, 0.9254902 , 0.84705882, 0.59215686,\n",
       "        0.        , 0.        , 0.        ],\n",
       "       [0.        , 0.        , 0.        , 0.        , 0.26666667,\n",
       "        0.91372549, 0.88627451, 0.95294118, 0.54509804, 0.78431373,\n",
       "        0.75686275, 0.80392157, 0.82352941, 0.81568627, 0.70588235,\n",
       "        0.80392157, 0.83137255, 0.79607843, 0.76862745, 0.84705882,\n",
       "        0.61568627, 0.70196078, 1.        , 0.84705882, 0.60784314,\n",
       "        0.        , 0.        , 0.        ],\n",
       "       [0.        , 0.        , 0.        , 0.        , 0.31764706,\n",
       "        0.88235294, 0.87843137, 0.82745098, 0.54117647, 0.85882353,\n",
       "        0.7254902 , 0.78823529, 0.83529412, 0.81176471, 0.77254902,\n",
       "        0.88627451, 0.83137255, 0.78431373, 0.74509804, 0.84313725,\n",
       "        0.71764706, 0.35294118, 1.        , 0.82745098, 0.57647059,\n",
       "        0.        , 0.        , 0.        ],\n",
       "       [0.        , 0.        , 0.        , 0.        , 0.35686275,\n",
       "        0.82352941, 0.90196078, 0.61960784, 0.44705882, 0.80392157,\n",
       "        0.73333333, 0.81568627, 0.81960784, 0.80784314, 0.75686275,\n",
       "        0.82352941, 0.82745098, 0.8       , 0.76470588, 0.8       ,\n",
       "        0.70980392, 0.09019608, 1.        , 0.83529412, 0.61960784,\n",
       "        0.        , 0.        , 0.        ],\n",
       "       [0.        , 0.        , 0.        , 0.        , 0.34117647,\n",
       "        0.80392157, 0.90980392, 0.42745098, 0.64313725, 1.        ,\n",
       "        0.83921569, 0.87843137, 0.87058824, 0.82352941, 0.77254902,\n",
       "        0.83921569, 0.88235294, 0.87058824, 0.82745098, 0.8627451 ,\n",
       "        0.85098039, 0.        , 0.91764706, 0.84705882, 0.6627451 ,\n",
       "        0.        , 0.        , 0.        ],\n",
       "       [0.        , 0.        , 0.        , 0.        , 0.36078431,\n",
       "        0.83529412, 0.90980392, 0.57254902, 0.01960784, 0.5254902 ,\n",
       "        0.59215686, 0.63529412, 0.66666667, 0.71764706, 0.71372549,\n",
       "        0.64313725, 0.65098039, 0.69803922, 0.63529412, 0.61176471,\n",
       "        0.38431373, 0.        , 0.94117647, 0.88235294, 0.82352941,\n",
       "        0.        , 0.        , 0.        ],\n",
       "       [0.        , 0.        , 0.        , 0.        , 0.16862745,\n",
       "        0.64313725, 0.80784314, 0.55294118, 0.        , 0.        ,\n",
       "        0.        , 0.        , 0.        , 0.        , 0.        ,\n",
       "        0.        , 0.        , 0.        , 0.        , 0.        ,\n",
       "        0.        , 0.        , 0.49803922, 0.49019608, 0.29803922,\n",
       "        0.        , 0.        , 0.        ]])"
      ]
     },
     "execution_count": 254,
     "metadata": {},
     "output_type": "execute_result"
    }
   ],
   "source": [
    "X_train[0] # Values are between 0-1, Sampled."
   ]
  },
  {
   "cell_type": "code",
   "execution_count": 256,
   "id": "0d9479a0-39e1-4c29-aac5-58d1f5ee1479",
   "metadata": {},
   "outputs": [],
   "source": [
    "y_val, y_train = y_train_full[:5000], y_train_full[5000:]"
   ]
  },
  {
   "cell_type": "markdown",
   "id": "3fa0bb07-c68e-4221-b50d-5c0f8fa83da1",
   "metadata": {},
   "source": [
    "Because we don't have readible labels, we need to create the categories for them. "
   ]
  },
  {
   "cell_type": "code",
   "execution_count": 259,
   "id": "597e8baf-bf4e-4bb0-8fb6-cfe6338e4539",
   "metadata": {},
   "outputs": [],
   "source": [
    "class_names = [\"T-shirt/top\", \"Trouser\", \"Pullover\", \"Dress\", \"Coat\",\n",
    "\"Sandal\", \"Shirt\", \"Sneaker\", \"Bag\", \"Ankle boot\"] # From the internet for the fashon_MNIST dataset."
   ]
  },
  {
   "cell_type": "code",
   "execution_count": 261,
   "id": "772cf112-dfbf-42ff-9034-20aebd1bb107",
   "metadata": {},
   "outputs": [
    {
     "data": {
      "text/plain": [
       "4"
      ]
     },
     "execution_count": 261,
     "metadata": {},
     "output_type": "execute_result"
    }
   ],
   "source": [
    "y_train[0]"
   ]
  },
  {
   "cell_type": "code",
   "execution_count": 263,
   "id": "c1aa933e-60a7-49c0-a67c-9daa0c2d8868",
   "metadata": {},
   "outputs": [
    {
     "data": {
      "text/plain": [
       "(55000, 28, 28)"
      ]
     },
     "execution_count": 263,
     "metadata": {},
     "output_type": "execute_result"
    }
   ],
   "source": [
    "X_train.shape"
   ]
  },
  {
   "cell_type": "code",
   "execution_count": 265,
   "id": "57c4d614-ab23-4a55-bb70-00079b6c0aac",
   "metadata": {},
   "outputs": [
    {
     "data": {
      "text/plain": [
       "'Coat'"
      ]
     },
     "execution_count": 265,
     "metadata": {},
     "output_type": "execute_result"
    }
   ],
   "source": [
    "class_names[y_train[0]]"
   ]
  },
  {
   "cell_type": "code",
   "execution_count": 317,
   "id": "5b2be125-bc10-48d0-aace-596b909d71e1",
   "metadata": {},
   "outputs": [],
   "source": [
    "model = keras.models.Sequential([\n",
    "    keras.layers.Flatten(input_shape = [28,28]),\n",
    "    keras.layers.Dense(300, activation = 'relu'),\n",
    "    keras.layers.Dense(100, activation = 'relu'),\n",
    "    keras.layers.Dense(10, activation = 'softmax')\n",
    "])"
   ]
  },
  {
   "cell_type": "code",
   "execution_count": 269,
   "id": "88b799f6-4a35-4e86-a66c-f1b7789c4483",
   "metadata": {},
   "outputs": [
    {
     "name": "stdout",
     "output_type": "stream",
     "text": [
      "Model: \"sequential_4\"\n",
      "_________________________________________________________________\n",
      " Layer (type)                Output Shape              Param #   \n",
      "=================================================================\n",
      " flatten_5 (Flatten)         (None, 784)               0         \n",
      "                                                                 \n",
      " dense_15 (Dense)            (None, 300)               235500    \n",
      "                                                                 \n",
      " dense_16 (Dense)            (None, 100)               30100     \n",
      "                                                                 \n",
      " dense_17 (Dense)            (None, 10)                1010      \n",
      "                                                                 \n",
      "=================================================================\n",
      "Total params: 266,610\n",
      "Trainable params: 266,610\n",
      "Non-trainable params: 0\n",
      "_________________________________________________________________\n"
     ]
    }
   ],
   "source": [
    "model.summary()"
   ]
  },
  {
   "cell_type": "code",
   "execution_count": 271,
   "id": "039b1de2-b72b-44b0-a791-9e3323674ec2",
   "metadata": {},
   "outputs": [
    {
     "name": "stdout",
     "output_type": "stream",
     "text": [
      "You must install pydot (`pip install pydot`) and install graphviz (see instructions at https://graphviz.gitlab.io/download/) for plot_model/model_to_dot to work.\n"
     ]
    }
   ],
   "source": [
    "keras.utils.plot_model(model)"
   ]
  },
  {
   "cell_type": "code",
   "execution_count": 273,
   "id": "96281a8c-3228-4494-b98d-34179c0c1227",
   "metadata": {},
   "outputs": [
    {
     "data": {
      "text/plain": [
       "[<keras.layers.reshaping.flatten.Flatten at 0x28180c50f40>,\n",
       " <keras.layers.core.dense.Dense at 0x28180c504c0>,\n",
       " <keras.layers.core.dense.Dense at 0x28159ae5610>,\n",
       " <keras.layers.core.dense.Dense at 0x28180718ee0>]"
      ]
     },
     "execution_count": 273,
     "metadata": {},
     "output_type": "execute_result"
    }
   ],
   "source": [
    "model.layers"
   ]
  },
  {
   "cell_type": "code",
   "execution_count": 275,
   "id": "ea2ff40f-3c1c-4f39-b163-7084e688e5e6",
   "metadata": {},
   "outputs": [],
   "source": [
    "hidden1 = model.layers[1]"
   ]
  },
  {
   "cell_type": "code",
   "execution_count": 277,
   "id": "05668ec9-6b01-4751-a36e-5298c3058398",
   "metadata": {},
   "outputs": [],
   "source": [
    "weights, biasses = hidden1.get_weights()"
   ]
  },
  {
   "cell_type": "code",
   "execution_count": 279,
   "id": "ceb53884-7377-409a-a946-578e84f51af0",
   "metadata": {},
   "outputs": [
    {
     "data": {
      "text/plain": [
       "array([[-0.03768861, -0.02450339, -0.06613491, ...,  0.04800789,\n",
       "        -0.03779897,  0.07180062],\n",
       "       [ 0.05875042,  0.06646216,  0.02487017, ..., -0.03006002,\n",
       "        -0.02564512,  0.06069484],\n",
       "       [-0.05576858, -0.00621183,  0.03450377, ..., -0.05684863,\n",
       "         0.00370326,  0.04805284],\n",
       "       ...,\n",
       "       [ 0.07289053,  0.06091367,  0.02497802, ..., -0.0231274 ,\n",
       "         0.05835119, -0.0037967 ],\n",
       "       [ 0.06316741, -0.02225299,  0.05763339, ...,  0.01807719,\n",
       "         0.03957863, -0.06316184],\n",
       "       [-0.0508871 , -0.00015127, -0.04783865, ...,  0.03926783,\n",
       "        -0.03457909, -0.04515664]], dtype=float32)"
      ]
     },
     "execution_count": 279,
     "metadata": {},
     "output_type": "execute_result"
    }
   ],
   "source": [
    "weights"
   ]
  },
  {
   "cell_type": "code",
   "execution_count": 281,
   "id": "76162164-945f-4ac0-a656-3e3b61ad75c1",
   "metadata": {},
   "outputs": [
    {
     "data": {
      "text/plain": [
       "(784, 300)"
      ]
     },
     "execution_count": 281,
     "metadata": {},
     "output_type": "execute_result"
    }
   ],
   "source": [
    "weights.shape"
   ]
  },
  {
   "cell_type": "code",
   "execution_count": 283,
   "id": "923f3d47-378b-4b34-bbb2-243820a9d186",
   "metadata": {},
   "outputs": [
    {
     "data": {
      "text/plain": [
       "array([0., 0., 0., 0., 0., 0., 0., 0., 0., 0., 0., 0., 0., 0., 0., 0., 0.,\n",
       "       0., 0., 0., 0., 0., 0., 0., 0., 0., 0., 0., 0., 0., 0., 0., 0., 0.,\n",
       "       0., 0., 0., 0., 0., 0., 0., 0., 0., 0., 0., 0., 0., 0., 0., 0., 0.,\n",
       "       0., 0., 0., 0., 0., 0., 0., 0., 0., 0., 0., 0., 0., 0., 0., 0., 0.,\n",
       "       0., 0., 0., 0., 0., 0., 0., 0., 0., 0., 0., 0., 0., 0., 0., 0., 0.,\n",
       "       0., 0., 0., 0., 0., 0., 0., 0., 0., 0., 0., 0., 0., 0., 0., 0., 0.,\n",
       "       0., 0., 0., 0., 0., 0., 0., 0., 0., 0., 0., 0., 0., 0., 0., 0., 0.,\n",
       "       0., 0., 0., 0., 0., 0., 0., 0., 0., 0., 0., 0., 0., 0., 0., 0., 0.,\n",
       "       0., 0., 0., 0., 0., 0., 0., 0., 0., 0., 0., 0., 0., 0., 0., 0., 0.,\n",
       "       0., 0., 0., 0., 0., 0., 0., 0., 0., 0., 0., 0., 0., 0., 0., 0., 0.,\n",
       "       0., 0., 0., 0., 0., 0., 0., 0., 0., 0., 0., 0., 0., 0., 0., 0., 0.,\n",
       "       0., 0., 0., 0., 0., 0., 0., 0., 0., 0., 0., 0., 0., 0., 0., 0., 0.,\n",
       "       0., 0., 0., 0., 0., 0., 0., 0., 0., 0., 0., 0., 0., 0., 0., 0., 0.,\n",
       "       0., 0., 0., 0., 0., 0., 0., 0., 0., 0., 0., 0., 0., 0., 0., 0., 0.,\n",
       "       0., 0., 0., 0., 0., 0., 0., 0., 0., 0., 0., 0., 0., 0., 0., 0., 0.,\n",
       "       0., 0., 0., 0., 0., 0., 0., 0., 0., 0., 0., 0., 0., 0., 0., 0., 0.,\n",
       "       0., 0., 0., 0., 0., 0., 0., 0., 0., 0., 0., 0., 0., 0., 0., 0., 0.,\n",
       "       0., 0., 0., 0., 0., 0., 0., 0., 0., 0., 0.], dtype=float32)"
      ]
     },
     "execution_count": 283,
     "metadata": {},
     "output_type": "execute_result"
    }
   ],
   "source": [
    "biasses"
   ]
  },
  {
   "cell_type": "code",
   "execution_count": 285,
   "id": "f4a7f65b-fdef-4ac0-b4f8-0b5e281ef4e8",
   "metadata": {},
   "outputs": [
    {
     "data": {
      "text/plain": [
       "(300,)"
      ]
     },
     "execution_count": 285,
     "metadata": {},
     "output_type": "execute_result"
    }
   ],
   "source": [
    "biasses.shape"
   ]
  },
  {
   "cell_type": "code",
   "execution_count": 319,
   "id": "0135ddf8-6afc-44fd-8e0e-bc4e2e8bf8e7",
   "metadata": {},
   "outputs": [],
   "source": [
    "model.compile(loss = \"sparse_categorical_crossentropy\", optimizer= 'adam', metrics=['accuracy'])"
   ]
  },
  {
   "cell_type": "code",
   "execution_count": 321,
   "id": "374ec4b4-99f6-4493-9b78-95bba25442c6",
   "metadata": {},
   "outputs": [
    {
     "name": "stdout",
     "output_type": "stream",
     "text": [
      "Epoch 1/40\n",
      "1719/1719 [==============================] - 5s 3ms/step - loss: 0.4880 - accuracy: 0.8238 - val_loss: 0.3808 - val_accuracy: 0.8590\n",
      "Epoch 2/40\n",
      "1719/1719 [==============================] - 4s 3ms/step - loss: 0.3639 - accuracy: 0.8652 - val_loss: 0.3615 - val_accuracy: 0.8690\n",
      "Epoch 3/40\n",
      "1719/1719 [==============================] - 5s 3ms/step - loss: 0.3266 - accuracy: 0.8787 - val_loss: 0.3494 - val_accuracy: 0.8732\n",
      "Epoch 4/40\n",
      "1719/1719 [==============================] - 4s 3ms/step - loss: 0.3025 - accuracy: 0.8884 - val_loss: 0.3106 - val_accuracy: 0.8860\n",
      "Epoch 5/40\n",
      "1719/1719 [==============================] - 4s 3ms/step - loss: 0.2856 - accuracy: 0.8930 - val_loss: 0.3170 - val_accuracy: 0.8840\n",
      "Epoch 6/40\n",
      "1719/1719 [==============================] - 5s 3ms/step - loss: 0.2699 - accuracy: 0.8985 - val_loss: 0.3157 - val_accuracy: 0.8878\n",
      "Epoch 7/40\n",
      "1719/1719 [==============================] - 5s 3ms/step - loss: 0.2584 - accuracy: 0.9021 - val_loss: 0.3108 - val_accuracy: 0.8878\n",
      "Epoch 8/40\n",
      "1719/1719 [==============================] - 5s 3ms/step - loss: 0.2464 - accuracy: 0.9077 - val_loss: 0.3075 - val_accuracy: 0.8944\n",
      "Epoch 9/40\n",
      "1719/1719 [==============================] - 4s 3ms/step - loss: 0.2377 - accuracy: 0.9095 - val_loss: 0.3047 - val_accuracy: 0.8928\n",
      "Epoch 10/40\n",
      "1719/1719 [==============================] - 4s 3ms/step - loss: 0.2293 - accuracy: 0.9126 - val_loss: 0.3011 - val_accuracy: 0.8948\n",
      "Epoch 11/40\n",
      "1719/1719 [==============================] - 4s 3ms/step - loss: 0.2184 - accuracy: 0.9168 - val_loss: 0.3161 - val_accuracy: 0.8934\n",
      "Epoch 12/40\n",
      "1719/1719 [==============================] - 5s 3ms/step - loss: 0.2109 - accuracy: 0.9201 - val_loss: 0.3205 - val_accuracy: 0.8918\n",
      "Epoch 13/40\n",
      "1719/1719 [==============================] - 4s 2ms/step - loss: 0.2039 - accuracy: 0.9217 - val_loss: 0.3060 - val_accuracy: 0.8986\n",
      "Epoch 14/40\n",
      "1719/1719 [==============================] - 4s 3ms/step - loss: 0.1968 - accuracy: 0.9250 - val_loss: 0.3150 - val_accuracy: 0.9016\n",
      "Epoch 15/40\n",
      "1719/1719 [==============================] - 5s 3ms/step - loss: 0.1886 - accuracy: 0.9283 - val_loss: 0.3249 - val_accuracy: 0.8932\n",
      "Epoch 16/40\n",
      "1719/1719 [==============================] - 4s 2ms/step - loss: 0.1820 - accuracy: 0.9297 - val_loss: 0.3184 - val_accuracy: 0.9008\n",
      "Epoch 17/40\n",
      "1719/1719 [==============================] - 4s 3ms/step - loss: 0.1784 - accuracy: 0.9309 - val_loss: 0.3585 - val_accuracy: 0.8944\n",
      "Epoch 18/40\n",
      "1719/1719 [==============================] - 4s 3ms/step - loss: 0.1696 - accuracy: 0.9352 - val_loss: 0.3199 - val_accuracy: 0.9006\n",
      "Epoch 19/40\n",
      "1719/1719 [==============================] - 5s 3ms/step - loss: 0.1678 - accuracy: 0.9358 - val_loss: 0.3448 - val_accuracy: 0.8992\n",
      "Epoch 20/40\n",
      "1719/1719 [==============================] - 5s 3ms/step - loss: 0.1605 - accuracy: 0.9378 - val_loss: 0.3403 - val_accuracy: 0.9014\n",
      "Epoch 21/40\n",
      "1719/1719 [==============================] - 5s 3ms/step - loss: 0.1602 - accuracy: 0.9389 - val_loss: 0.3457 - val_accuracy: 0.8992\n",
      "Epoch 22/40\n",
      "1719/1719 [==============================] - 4s 3ms/step - loss: 0.1540 - accuracy: 0.9409 - val_loss: 0.3566 - val_accuracy: 0.8960\n",
      "Epoch 23/40\n",
      "1719/1719 [==============================] - 5s 3ms/step - loss: 0.1496 - accuracy: 0.9414 - val_loss: 0.3472 - val_accuracy: 0.9020\n",
      "Epoch 24/40\n",
      "1719/1719 [==============================] - 4s 3ms/step - loss: 0.1465 - accuracy: 0.9436 - val_loss: 0.3506 - val_accuracy: 0.8980\n",
      "Epoch 25/40\n",
      "1719/1719 [==============================] - 5s 3ms/step - loss: 0.1394 - accuracy: 0.9468 - val_loss: 0.3577 - val_accuracy: 0.8998\n",
      "Epoch 26/40\n",
      "1719/1719 [==============================] - 4s 3ms/step - loss: 0.1375 - accuracy: 0.9464 - val_loss: 0.3955 - val_accuracy: 0.8930\n",
      "Epoch 27/40\n",
      "1719/1719 [==============================] - 5s 3ms/step - loss: 0.1338 - accuracy: 0.9478 - val_loss: 0.4011 - val_accuracy: 0.9012\n",
      "Epoch 28/40\n",
      "1719/1719 [==============================] - 4s 3ms/step - loss: 0.1306 - accuracy: 0.9500 - val_loss: 0.3666 - val_accuracy: 0.8958\n",
      "Epoch 29/40\n",
      "1719/1719 [==============================] - 5s 3ms/step - loss: 0.1278 - accuracy: 0.9512 - val_loss: 0.4442 - val_accuracy: 0.8958\n",
      "Epoch 30/40\n",
      "1719/1719 [==============================] - 5s 3ms/step - loss: 0.1217 - accuracy: 0.9523 - val_loss: 0.4005 - val_accuracy: 0.8998\n",
      "Epoch 31/40\n",
      "1719/1719 [==============================] - 6s 3ms/step - loss: 0.1224 - accuracy: 0.9527 - val_loss: 0.4331 - val_accuracy: 0.8968\n",
      "Epoch 32/40\n",
      "1719/1719 [==============================] - 4s 3ms/step - loss: 0.1197 - accuracy: 0.9526 - val_loss: 0.4027 - val_accuracy: 0.9050\n",
      "Epoch 33/40\n",
      "1719/1719 [==============================] - 5s 3ms/step - loss: 0.1191 - accuracy: 0.9532 - val_loss: 0.4118 - val_accuracy: 0.9056\n",
      "Epoch 34/40\n",
      "1719/1719 [==============================] - 5s 3ms/step - loss: 0.1101 - accuracy: 0.9571 - val_loss: 0.4609 - val_accuracy: 0.9046\n",
      "Epoch 35/40\n",
      "1719/1719 [==============================] - 4s 3ms/step - loss: 0.1121 - accuracy: 0.9561 - val_loss: 0.4433 - val_accuracy: 0.8976\n",
      "Epoch 36/40\n",
      "1719/1719 [==============================] - 5s 3ms/step - loss: 0.1081 - accuracy: 0.9584 - val_loss: 0.4324 - val_accuracy: 0.8964\n",
      "Epoch 37/40\n",
      "1719/1719 [==============================] - 5s 3ms/step - loss: 0.1053 - accuracy: 0.9592 - val_loss: 0.4621 - val_accuracy: 0.8974\n",
      "Epoch 38/40\n",
      "1719/1719 [==============================] - 4s 3ms/step - loss: 0.1055 - accuracy: 0.9591 - val_loss: 0.4590 - val_accuracy: 0.9012\n",
      "Epoch 39/40\n",
      "1719/1719 [==============================] - 4s 3ms/step - loss: 0.1052 - accuracy: 0.9600 - val_loss: 0.4704 - val_accuracy: 0.8982\n",
      "Epoch 40/40\n",
      "1719/1719 [==============================] - 5s 3ms/step - loss: 0.0998 - accuracy: 0.9615 - val_loss: 0.4450 - val_accuracy: 0.9048\n"
     ]
    }
   ],
   "source": [
    "history = model.fit(x= X_train, y = y_train, epochs= 40, validation_data= (X_val, y_val))"
   ]
  },
  {
   "cell_type": "code",
   "execution_count": 323,
   "id": "63fc742a-6e80-4239-bc06-8c834b5316e7",
   "metadata": {},
   "outputs": [
    {
     "data": {
      "text/plain": [
       "(0.0, 25.0)"
      ]
     },
     "execution_count": 323,
     "metadata": {},
     "output_type": "execute_result"
    },
    {
     "data": {
      "image/png": "[encoded data removed]",
      "text/plain": [
       "<Figure size 640x480 with 1 Axes>"
      ]
     },
     "metadata": {},
     "output_type": "display_data"
    }
   ],
   "source": [
    "pd.DataFrame(history.history).plot()\n",
    "plt.grid(True)\n",
    "plt.gca().set_ylim(0,1)\n",
    "plt.gca().set_xlim(0,25)"
   ]
  },
  {
   "cell_type": "code",
   "execution_count": 325,
   "id": "c001ddc3-f59d-43f4-bfbd-f361f8bf0665",
   "metadata": {},
   "outputs": [
    {
     "name": "stdout",
     "output_type": "stream",
     "text": [
      "313/313 [==============================] - 1s 2ms/step - loss: 110.3249 - accuracy: 0.8731\n"
     ]
    },
    {
     "data": {
      "text/plain": [
       "[110.3248519897461, 0.8730999827384949]"
      ]
     },
     "execution_count": 325,
     "metadata": {},
     "output_type": "execute_result"
    }
   ],
   "source": [
    "model.evaluate(X_test,y_test)"
   ]
  },
  {
   "cell_type": "code",
   "execution_count": 342,
   "id": "ca3d2fa1-f1a5-446d-ab06-0305f36482e9",
   "metadata": {},
   "outputs": [
    {
     "name": "stdout",
     "output_type": "stream",
     "text": [
      "1/1 [==============================] - 0s 93ms/step\n"
     ]
    },
    {
     "data": {
      "text/plain": [
       "array([[0., 0., 0., 0., 0., 0., 0., 0., 0., 1.],\n",
       "       [0., 0., 1., 0., 0., 0., 0., 0., 0., 0.],\n",
       "       [0., 1., 0., 0., 0., 0., 0., 0., 0., 0.]], dtype=float32)"
      ]
     },
     "execution_count": 342,
     "metadata": {},
     "output_type": "execute_result"
    }
   ],
   "source": [
    "X_new = X_test[:3]\n",
    "model.predict(X_new)"
   ]
  },
  {
   "cell_type": "code",
   "execution_count": null,
   "id": "9f8dbb91-7d18-4232-be3a-85c2ac1a56f3",
   "metadata": {},
   "outputs": [],
   "source": []
  }
 ],
 "metadata": {
  "kernelspec": {
   "display_name": "Python (tf_env)",
   "language": "python",
   "name": "tf_env"
  },
  "language_info": {
   "codemirror_mode": {
    "name": "ipython",
    "version": 3
   },
   "file_extension": ".py",
   "mimetype": "text/x-python",
   "name": "python",
   "nbconvert_exporter": "python",
   "pygments_lexer": "ipython3",
   "version": "3.8.20"
  }
 },
 "nbformat": 4,
 "nbformat_minor": 5
}
